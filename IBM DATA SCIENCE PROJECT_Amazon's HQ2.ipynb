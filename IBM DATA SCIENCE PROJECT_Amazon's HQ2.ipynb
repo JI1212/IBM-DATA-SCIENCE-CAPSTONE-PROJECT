{
 "cells": [
  {
   "cell_type": "markdown",
   "metadata": {},
   "source": [
    "# This notebook is used for IBM DATA SCIENCE COURSE CAPSTONE PROJECT"
   ]
  },
  {
   "cell_type": "code",
   "execution_count": 1,
   "metadata": {},
   "outputs": [],
   "source": [
    "import numpy as np\n",
    "import pandas as pd\n",
    "import requests\n",
    "import random\n",
    "import folium\n",
    "from geopy.geocoders import Nominatim\n",
    "import folium\n",
    "import requests\n",
    "import json"
   ]
  },
  {
   "cell_type": "markdown",
   "metadata": {},
   "source": [
    "# Part 1, Explore the cities dataset. Use clsutering technique to find cities similar to Seattle."
   ]
  },
  {
   "cell_type": "code",
   "execution_count": 2,
   "metadata": {},
   "outputs": [],
   "source": [
    "#read the cities dataset\n",
    "cities = pd.read_csv('uscities.csv')\n",
    "#cities.head()"
   ]
  },
  {
   "cell_type": "markdown",
   "metadata": {},
   "source": [
    "## Since Amazon's first headquarter is on the west coast of the U.S., we might want to put the 2nd headquarter in the east half of the country. We can do so by using the longitude."
   ]
  },
  {
   "cell_type": "code",
   "execution_count": 3,
   "metadata": {},
   "outputs": [
    {
     "name": "stdout",
     "output_type": "stream",
     "text": [
      "The geograpical coordinate of the U.S.are 39.7837304, -100.4458825.\n"
     ]
    }
   ],
   "source": [
    "#Getting us's central coordinates\n",
    "address = 'United States'\n",
    "\n",
    "geolocator = Nominatim(user_agent=\"ny_explorer\")\n",
    "location = geolocator.geocode(address)\n",
    "latitude = location.latitude\n",
    "longitude = location.longitude\n",
    "print('The geograpical coordinate of the U.S.are {}, {}.'.format(latitude, longitude))"
   ]
  },
  {
   "cell_type": "code",
   "execution_count": 4,
   "metadata": {},
   "outputs": [
    {
     "data": {
      "text/plain": [
       "(22695, 19)"
      ]
     },
     "execution_count": 4,
     "metadata": {},
     "output_type": "execute_result"
    }
   ],
   "source": [
    "east_cities = cities[cities.lng > longitude]\n",
    "east_cities.shape"
   ]
  },
  {
   "cell_type": "markdown",
   "metadata": {},
   "source": [
    "## Further filtering the dataset to only keep the cities with large population(top 10%)"
   ]
  },
  {
   "cell_type": "code",
   "execution_count": 5,
   "metadata": {},
   "outputs": [
    {
     "data": {
      "text/plain": [
       "(2094, 19)"
      ]
     },
     "execution_count": 5,
     "metadata": {},
     "output_type": "execute_result"
    }
   ],
   "source": [
    "threshold = np.percentile(cities.population,90)\n",
    "east_cities = east_cities[east_cities.population > threshold]\n",
    "east_cities.shape"
   ]
  },
  {
   "cell_type": "code",
   "execution_count": 6,
   "metadata": {
    "scrolled": true
   },
   "outputs": [],
   "source": [
    "#plotting the cities on the map\n",
    "map = folium.Map(location=[latitude, longitude], zoom_start=4)\n",
    "for lat, lng, label in zip(east_cities['lat'], east_cities['lng'],east_cities['city']):\n",
    "    label = folium.Popup(label, parse_html=True)\n",
    "    folium.CircleMarker(\n",
    "        [lat, lng],\n",
    "        radius=5,\n",
    "        popup=label,\n",
    "        color='blue',\n",
    "        fill=True,\n",
    "        fill_color='#3186cc',\n",
    "        fill_opacity=0.7,\n",
    "        parse_html=False).add_to(map) \n",
    "    \n",
    "#map"
   ]
  },
  {
   "cell_type": "markdown",
   "metadata": {},
   "source": [
    "## Now we can clean the dataset to do cluster"
   ]
  },
  {
   "cell_type": "code",
   "execution_count": 7,
   "metadata": {},
   "outputs": [],
   "source": [
    "from sklearn.preprocessing import StandardScaler\n",
    "from sklearn.preprocessing import LabelEncoder\n",
    "from sklearn.decomposition import PCA\n",
    "from sklearn.cluster import KMeans\n",
    "import matplotlib.pyplot as plt\n",
    "%matplotlib inline"
   ]
  },
  {
   "cell_type": "code",
   "execution_count": 8,
   "metadata": {},
   "outputs": [
    {
     "data": {
      "text/plain": [
       "(2095, 19)"
      ]
     },
     "execution_count": 8,
     "metadata": {},
     "output_type": "execute_result"
    }
   ],
   "source": [
    "#concating seattle into the dataset\n",
    "seattle = cities.loc[cities.city == 'Seattle']\n",
    "east_cities = pd.concat(objs = [east_cities,seattle])\n",
    "east_cities.shape"
   ]
  },
  {
   "cell_type": "code",
   "execution_count": 9,
   "metadata": {},
   "outputs": [
    {
     "data": {
      "text/plain": [
       "(2095, 6)"
      ]
     },
     "execution_count": 9,
     "metadata": {},
     "output_type": "execute_result"
    }
   ],
   "source": [
    "#only select the columns that will be used for clustering\n",
    "cols = ['population','density','military','incorporated','timezone','ranking']\n",
    "X = east_cities[cols]\n",
    "X.shape"
   ]
  },
  {
   "cell_type": "code",
   "execution_count": 10,
   "metadata": {},
   "outputs": [
    {
     "name": "stderr",
     "output_type": "stream",
     "text": [
      "/Users/gideon/anaconda3/lib/python3.7/site-packages/ipykernel_launcher.py:4: SettingWithCopyWarning: \n",
      "A value is trying to be set on a copy of a slice from a DataFrame.\n",
      "Try using .loc[row_indexer,col_indexer] = value instead\n",
      "\n",
      "See the caveats in the documentation: http://pandas.pydata.org/pandas-docs/stable/indexing.html#indexing-view-versus-copy\n",
      "  after removing the cwd from sys.path.\n"
     ]
    },
    {
     "data": {
      "text/html": [
       "<div>\n",
       "<style scoped>\n",
       "    .dataframe tbody tr th:only-of-type {\n",
       "        vertical-align: middle;\n",
       "    }\n",
       "\n",
       "    .dataframe tbody tr th {\n",
       "        vertical-align: top;\n",
       "    }\n",
       "\n",
       "    .dataframe thead th {\n",
       "        text-align: right;\n",
       "    }\n",
       "</style>\n",
       "<table border=\"1\" class=\"dataframe\">\n",
       "  <thead>\n",
       "    <tr style=\"text-align: right;\">\n",
       "      <th></th>\n",
       "      <th>population</th>\n",
       "      <th>density</th>\n",
       "      <th>military</th>\n",
       "      <th>incorporated</th>\n",
       "      <th>timezone</th>\n",
       "      <th>ranking</th>\n",
       "    </tr>\n",
       "  </thead>\n",
       "  <tbody>\n",
       "    <tr>\n",
       "      <th>638</th>\n",
       "      <td>20864.0</td>\n",
       "      <td>438.0</td>\n",
       "      <td>0</td>\n",
       "      <td>1</td>\n",
       "      <td>8</td>\n",
       "      <td>3</td>\n",
       "    </tr>\n",
       "    <tr>\n",
       "      <th>660</th>\n",
       "      <td>34132.0</td>\n",
       "      <td>715.0</td>\n",
       "      <td>0</td>\n",
       "      <td>1</td>\n",
       "      <td>8</td>\n",
       "      <td>3</td>\n",
       "    </tr>\n",
       "    <tr>\n",
       "      <th>666</th>\n",
       "      <td>20401.0</td>\n",
       "      <td>1379.0</td>\n",
       "      <td>0</td>\n",
       "      <td>0</td>\n",
       "      <td>8</td>\n",
       "      <td>3</td>\n",
       "    </tr>\n",
       "    <tr>\n",
       "      <th>667</th>\n",
       "      <td>71106.0</td>\n",
       "      <td>2517.0</td>\n",
       "      <td>0</td>\n",
       "      <td>1</td>\n",
       "      <td>8</td>\n",
       "      <td>2</td>\n",
       "    </tr>\n",
       "    <tr>\n",
       "      <th>682</th>\n",
       "      <td>27087.0</td>\n",
       "      <td>308.0</td>\n",
       "      <td>0</td>\n",
       "      <td>1</td>\n",
       "      <td>8</td>\n",
       "      <td>3</td>\n",
       "    </tr>\n",
       "  </tbody>\n",
       "</table>\n",
       "</div>"
      ],
      "text/plain": [
       "     population  density  military  incorporated  timezone  ranking\n",
       "638     20864.0    438.0         0             1         8        3\n",
       "660     34132.0    715.0         0             1         8        3\n",
       "666     20401.0   1379.0         0             0         8        3\n",
       "667     71106.0   2517.0         0             1         8        2\n",
       "682     27087.0    308.0         0             1         8        3"
      ]
     },
     "execution_count": 10,
     "metadata": {},
     "output_type": "execute_result"
    }
   ],
   "source": [
    "#encode categorical data using label encoder\n",
    "for col in ['military','incorporated','timezone']:\n",
    "    encoder = LabelEncoder()\n",
    "    X[col]=encoder.fit_transform(X[col])\n",
    "X.head()"
   ]
  },
  {
   "cell_type": "code",
   "execution_count": 11,
   "metadata": {},
   "outputs": [
    {
     "data": {
      "text/plain": [
       "(array([2.033e+03, 0.000e+00, 8.000e+00, 0.000e+00, 0.000e+00, 4.400e+01,\n",
       "        0.000e+00, 1.000e+00, 0.000e+00, 9.000e+00]),\n",
       " array([0. , 0.4, 0.8, 1.2, 1.6, 2. , 2.4, 2.8, 3.2, 3.6, 4. ]),\n",
       " <a list of 10 Patch objects>)"
      ]
     },
     "execution_count": 11,
     "metadata": {},
     "output_type": "execute_result"
    },
    {
     "data": {
      "image/png": "[encoded data removed]",
      "text/plain": [
       "<Figure size 432x288 with 1 Axes>"
      ]
     },
     "metadata": {
      "needs_background": "light"
     },
     "output_type": "display_data"
    }
   ],
   "source": [
    "#use k = 5, do a kmean clustering\n",
    "n = 5\n",
    "kmeans = KMeans(n_clusters=n, random_state=0).fit(X)\n",
    "kmeans.labels_\n",
    "\n",
    "plt.hist(kmeans.labels_)"
   ]
  },
  {
   "cell_type": "code",
   "execution_count": 12,
   "metadata": {},
   "outputs": [
    {
     "data": {
      "text/html": [
       "<div>\n",
       "<style scoped>\n",
       "    .dataframe tbody tr th:only-of-type {\n",
       "        vertical-align: middle;\n",
       "    }\n",
       "\n",
       "    .dataframe tbody tr th {\n",
       "        vertical-align: top;\n",
       "    }\n",
       "\n",
       "    .dataframe thead th {\n",
       "        text-align: right;\n",
       "    }\n",
       "</style>\n",
       "<table border=\"1\" class=\"dataframe\">\n",
       "  <thead>\n",
       "    <tr style=\"text-align: right;\">\n",
       "      <th></th>\n",
       "      <th>labels</th>\n",
       "      <th>city</th>\n",
       "      <th>city_ascii</th>\n",
       "      <th>state_id</th>\n",
       "      <th>state_name</th>\n",
       "      <th>county_fips</th>\n",
       "      <th>county_name</th>\n",
       "      <th>county_fips_all</th>\n",
       "      <th>county_name_all</th>\n",
       "      <th>lat</th>\n",
       "      <th>lng</th>\n",
       "      <th>population</th>\n",
       "      <th>density</th>\n",
       "      <th>source</th>\n",
       "      <th>military</th>\n",
       "      <th>incorporated</th>\n",
       "      <th>timezone</th>\n",
       "      <th>ranking</th>\n",
       "      <th>zips</th>\n",
       "      <th>id</th>\n",
       "    </tr>\n",
       "  </thead>\n",
       "  <tbody>\n",
       "    <tr>\n",
       "      <th>106</th>\n",
       "      <td>4</td>\n",
       "      <td>Seattle</td>\n",
       "      <td>Seattle</td>\n",
       "      <td>WA</td>\n",
       "      <td>Washington</td>\n",
       "      <td>53033</td>\n",
       "      <td>King</td>\n",
       "      <td>53033</td>\n",
       "      <td>King</td>\n",
       "      <td>47.6211</td>\n",
       "      <td>-122.3244</td>\n",
       "      <td>3643765.0</td>\n",
       "      <td>3336.0</td>\n",
       "      <td>polygon</td>\n",
       "      <td>False</td>\n",
       "      <td>True</td>\n",
       "      <td>America/Los_Angeles</td>\n",
       "      <td>1</td>\n",
       "      <td>98109 98108 98104 98107 98106 98101 98103 9810...</td>\n",
       "      <td>1840097260</td>\n",
       "    </tr>\n",
       "  </tbody>\n",
       "</table>\n",
       "</div>"
      ],
      "text/plain": [
       "     labels     city city_ascii state_id  state_name  county_fips county_name  \\\n",
       "106       4  Seattle    Seattle       WA  Washington        53033        King   \n",
       "\n",
       "    county_fips_all county_name_all      lat       lng  population  density  \\\n",
       "106           53033            King  47.6211 -122.3244   3643765.0   3336.0   \n",
       "\n",
       "      source  military  incorporated             timezone  ranking  \\\n",
       "106  polygon     False          True  America/Los_Angeles        1   \n",
       "\n",
       "                                                  zips          id  \n",
       "106  98109 98108 98104 98107 98106 98101 98103 9810...  1840097260  "
      ]
     },
     "execution_count": 12,
     "metadata": {},
     "output_type": "execute_result"
    }
   ],
   "source": [
    "#get the label for Seattle\n",
    "east_cities.insert(0,'labels',kmeans.labels_)\n",
    "east_cities.loc[east_cities.city == 'Seattle']"
   ]
  },
  {
   "cell_type": "code",
   "execution_count": 13,
   "metadata": {},
   "outputs": [
    {
     "data": {
      "text/plain": [
       "(9, 20)"
      ]
     },
     "execution_count": 13,
     "metadata": {},
     "output_type": "execute_result"
    }
   ],
   "source": [
    "#get all cities with the label 4, same as Seattle\n",
    "options = east_cities[east_cities.labels == 4]\n",
    "options.shape"
   ]
  },
  {
   "cell_type": "code",
   "execution_count": 14,
   "metadata": {
    "scrolled": false
   },
   "outputs": [
    {
     "data": {
      "text/plain": [
       "array(['Tampa', 'San Antonio', 'Queens', 'Brooklyn', 'Baltimore',\n",
       "       'St. Louis', 'Minneapolis', 'Detroit', 'Seattle'], dtype=object)"
      ]
     },
     "execution_count": 14,
     "metadata": {},
     "output_type": "execute_result"
    }
   ],
   "source": [
    "#There are 8 cities to be our options, let see what they are.\n",
    "#We keep the Seattle for the next part of this project\n",
    "city_list = options['city'].values\n",
    "city_list"
   ]
  },
  {
   "cell_type": "markdown",
   "metadata": {},
   "source": [
    "# Part 2, use Foursquare API to find the neighborhood that is the most similar to Amazon's first headquarter."
   ]
  },
  {
   "cell_type": "code",
   "execution_count": 15,
   "metadata": {},
   "outputs": [],
   "source": [
    "#build a new dataframe called candidates\n",
    "candidates = pd.DataFrame(columns = ['city'])\n",
    "candidates['city'] = city_list\n",
    "#candidates"
   ]
  },
  {
   "cell_type": "code",
   "execution_count": 16,
   "metadata": {},
   "outputs": [
    {
     "name": "stdout",
     "output_type": "stream",
     "text": [
      "The geograpical coordinate of the Tampa are 27.9477595, -82.458444.\n",
      "The geograpical coordinate of the San Antonio are 29.4246002, -98.4951405.\n",
      "The geograpical coordinate of the Queens are 40.6524927, -73.7914214158161.\n",
      "The geograpical coordinate of the Brooklyn are 40.6501038, -73.9495823.\n",
      "The geograpical coordinate of the Baltimore are 39.2908816, -76.610759.\n",
      "The geograpical coordinate of the St. Louis are 38.6268039, -90.1994097.\n",
      "The geograpical coordinate of the Minneapolis are 44.9706705, -93.268217735811.\n",
      "The geograpical coordinate of the Detroit are 42.3315509, -83.0466403.\n",
      "The geograpical coordinate of the Seattle are 47.6038321, -122.3300624.\n"
     ]
    }
   ],
   "source": [
    "#get the coordinates for the list of candidates\n",
    "\n",
    "lat = []\n",
    "lng = []\n",
    "for add in city_list:\n",
    "    address = add\n",
    "\n",
    "    geolocator = Nominatim(user_agent=\"ny_explorer\")\n",
    "    location = geolocator.geocode(address)\n",
    "    latitude = location.latitude\n",
    "    longitude = location.longitude\n",
    "    print('The geograpical coordinate of the {} are {}, {}.'.format(address,latitude, longitude))\n",
    "    \n",
    "    lat.append(latitude)\n",
    "    lng.append(longitude)"
   ]
  },
  {
   "cell_type": "code",
   "execution_count": 17,
   "metadata": {},
   "outputs": [],
   "source": [
    "candidates['Latitude']=lat\n",
    "candidates['Longitude']=lng\n",
    "#candidates\n",
    "#now we have a dataframe, let's explore using Foursquare API"
   ]
  },
  {
   "cell_type": "code",
   "execution_count": 18,
   "metadata": {},
   "outputs": [],
   "source": [
    "#get nearby venues\n",
    "CLIENT_ID = 'SLOTL4BOPTRC0G2P4OH13AXOIZLVZFNFP3EOD14CYQ32R3FW' # your Foursquare ID\n",
    "CLIENT_SECRET = 'EOMYXZBVSGBIGO32XKWCHRNCWA2SZ40HYLK50J1E4XTZGJVR' # your Foursquare Secret\n",
    "LIMIT = 200\n",
    "radius = 1000\n",
    "VERSION = '20180605'\n",
    "\n",
    "def getNearbyVenues(names, latitudes, longitudes, radius=500):\n",
    "    \n",
    "    venues_list=[]\n",
    "    for name, lat, lng in zip(names, latitudes, longitudes):\n",
    "        print(name)\n",
    "            \n",
    "        # create the API request URL\n",
    "        url = 'https://api.foursquare.com/v2/venues/explore?&client_id={}&client_secret={}&v={}&ll={},{}&radius={}&limit={}'.format(\n",
    "            CLIENT_ID, \n",
    "            CLIENT_SECRET, \n",
    "            VERSION, \n",
    "            lat, \n",
    "            lng, \n",
    "            radius, \n",
    "            LIMIT)\n",
    "            \n",
    "        # make the GET request\n",
    "        results = requests.get(url).json()[\"response\"]['groups'][0]['items']\n",
    "        \n",
    "        # return only relevant information for each nearby venue\n",
    "        venues_list.append([(\n",
    "            name, \n",
    "            lat, \n",
    "            lng, \n",
    "            v['venue']['name'], \n",
    "            v['venue']['location']['lat'], \n",
    "            v['venue']['location']['lng'],  \n",
    "            v['venue']['categories'][0]['name']) for v in results])\n",
    "\n",
    "    nearby_venues = pd.DataFrame([item for venue_list in venues_list for item in venue_list])\n",
    "    nearby_venues.columns = ['Neighborhood', \n",
    "                  'Neighborhood Latitude', \n",
    "                  'Neighborhood Longitude', \n",
    "                  'Venue', \n",
    "                  'Venue Latitude', \n",
    "                  'Venue Longitude', \n",
    "                  'Venue Category']\n",
    "    \n",
    "    return(nearby_venues)"
   ]
  },
  {
   "cell_type": "code",
   "execution_count": 19,
   "metadata": {},
   "outputs": [
    {
     "name": "stdout",
     "output_type": "stream",
     "text": [
      "Tampa\n",
      "San Antonio\n",
      "Queens\n",
      "Brooklyn\n",
      "Baltimore\n",
      "St. Louis\n",
      "Minneapolis\n",
      "Detroit\n",
      "Seattle\n"
     ]
    },
    {
     "data": {
      "text/plain": [
       "(491, 7)"
      ]
     },
     "execution_count": 19,
     "metadata": {},
     "output_type": "execute_result"
    }
   ],
   "source": [
    "venues = getNearbyVenues(names=candidates['city'],\n",
    "                                   latitudes=candidates['Latitude'],\n",
    "                                   longitudes=candidates['Longitude']\n",
    "                                  )\n",
    "venues.shape"
   ]
  },
  {
   "cell_type": "code",
   "execution_count": 20,
   "metadata": {},
   "outputs": [
    {
     "name": "stdout",
     "output_type": "stream",
     "text": [
      "There are 146 uniques categories.\n"
     ]
    }
   ],
   "source": [
    "print('There are {} uniques categories.'.format(len(venues['Venue Category'].unique())))"
   ]
  },
  {
   "cell_type": "code",
   "execution_count": 21,
   "metadata": {},
   "outputs": [],
   "source": [
    "#def a function to get dataframe desired\n",
    "def get_dataframe(city):\n",
    "    df = venues[venues.Neighborhood == city].groupby('Venue Category').count()\n",
    "    df.rename(columns = {'Neighborhood':city},inplace=True)\n",
    "    df = df.T\n",
    "    df = df.head(1)\n",
    "    return df"
   ]
  },
  {
   "cell_type": "code",
   "execution_count": 22,
   "metadata": {},
   "outputs": [
    {
     "name": "stderr",
     "output_type": "stream",
     "text": [
      "/Users/gideon/anaconda3/lib/python3.7/site-packages/ipykernel_launcher.py:5: FutureWarning: Sorting because non-concatenation axis is not aligned. A future version\n",
      "of pandas will change to not sort by default.\n",
      "\n",
      "To accept the future behavior, pass 'sort=False'.\n",
      "\n",
      "To retain the current behavior and silence the warning, pass 'sort=True'.\n",
      "\n",
      "  \"\"\"\n"
     ]
    },
    {
     "data": {
      "text/html": [
       "<div>\n",
       "<style scoped>\n",
       "    .dataframe tbody tr th:only-of-type {\n",
       "        vertical-align: middle;\n",
       "    }\n",
       "\n",
       "    .dataframe tbody tr th {\n",
       "        vertical-align: top;\n",
       "    }\n",
       "\n",
       "    .dataframe thead th {\n",
       "        text-align: right;\n",
       "    }\n",
       "</style>\n",
       "<table border=\"1\" class=\"dataframe\">\n",
       "  <thead>\n",
       "    <tr style=\"text-align: right;\">\n",
       "      <th></th>\n",
       "      <th>ATM</th>\n",
       "      <th>Airport Lounge</th>\n",
       "      <th>American Restaurant</th>\n",
       "      <th>Antique Shop</th>\n",
       "      <th>Art Gallery</th>\n",
       "      <th>Art Museum</th>\n",
       "      <th>Arts &amp; Crafts Store</th>\n",
       "      <th>Asian Restaurant</th>\n",
       "      <th>Athletics &amp; Sports</th>\n",
       "      <th>BBQ Joint</th>\n",
       "      <th>...</th>\n",
       "      <th>Theater</th>\n",
       "      <th>Thrift / Vintage Store</th>\n",
       "      <th>Tour Provider</th>\n",
       "      <th>Tourist Information Center</th>\n",
       "      <th>Toy / Game Store</th>\n",
       "      <th>Track</th>\n",
       "      <th>Vietnamese Restaurant</th>\n",
       "      <th>Whisky Bar</th>\n",
       "      <th>Wine Bar</th>\n",
       "      <th>Yoga Studio</th>\n",
       "    </tr>\n",
       "  </thead>\n",
       "  <tbody>\n",
       "    <tr>\n",
       "      <th>Seattle</th>\n",
       "      <td>NaN</td>\n",
       "      <td>NaN</td>\n",
       "      <td>NaN</td>\n",
       "      <td>1.0</td>\n",
       "      <td>NaN</td>\n",
       "      <td>NaN</td>\n",
       "      <td>1.0</td>\n",
       "      <td>2.0</td>\n",
       "      <td>NaN</td>\n",
       "      <td>1.0</td>\n",
       "      <td>...</td>\n",
       "      <td>NaN</td>\n",
       "      <td>1.0</td>\n",
       "      <td>1.0</td>\n",
       "      <td>NaN</td>\n",
       "      <td>1.0</td>\n",
       "      <td>NaN</td>\n",
       "      <td>NaN</td>\n",
       "      <td>NaN</td>\n",
       "      <td>NaN</td>\n",
       "      <td>1.0</td>\n",
       "    </tr>\n",
       "    <tr>\n",
       "      <th>Detroit</th>\n",
       "      <td>NaN</td>\n",
       "      <td>NaN</td>\n",
       "      <td>6.0</td>\n",
       "      <td>NaN</td>\n",
       "      <td>2.0</td>\n",
       "      <td>NaN</td>\n",
       "      <td>NaN</td>\n",
       "      <td>NaN</td>\n",
       "      <td>NaN</td>\n",
       "      <td>NaN</td>\n",
       "      <td>...</td>\n",
       "      <td>NaN</td>\n",
       "      <td>NaN</td>\n",
       "      <td>NaN</td>\n",
       "      <td>NaN</td>\n",
       "      <td>NaN</td>\n",
       "      <td>NaN</td>\n",
       "      <td>NaN</td>\n",
       "      <td>2.0</td>\n",
       "      <td>NaN</td>\n",
       "      <td>1.0</td>\n",
       "    </tr>\n",
       "    <tr>\n",
       "      <th>Minneapolis</th>\n",
       "      <td>1.0</td>\n",
       "      <td>NaN</td>\n",
       "      <td>2.0</td>\n",
       "      <td>NaN</td>\n",
       "      <td>NaN</td>\n",
       "      <td>NaN</td>\n",
       "      <td>NaN</td>\n",
       "      <td>1.0</td>\n",
       "      <td>NaN</td>\n",
       "      <td>NaN</td>\n",
       "      <td>...</td>\n",
       "      <td>NaN</td>\n",
       "      <td>NaN</td>\n",
       "      <td>NaN</td>\n",
       "      <td>NaN</td>\n",
       "      <td>NaN</td>\n",
       "      <td>NaN</td>\n",
       "      <td>NaN</td>\n",
       "      <td>NaN</td>\n",
       "      <td>NaN</td>\n",
       "      <td>NaN</td>\n",
       "    </tr>\n",
       "    <tr>\n",
       "      <th>St. Louis</th>\n",
       "      <td>1.0</td>\n",
       "      <td>NaN</td>\n",
       "      <td>1.0</td>\n",
       "      <td>NaN</td>\n",
       "      <td>1.0</td>\n",
       "      <td>NaN</td>\n",
       "      <td>NaN</td>\n",
       "      <td>NaN</td>\n",
       "      <td>1.0</td>\n",
       "      <td>NaN</td>\n",
       "      <td>...</td>\n",
       "      <td>NaN</td>\n",
       "      <td>NaN</td>\n",
       "      <td>NaN</td>\n",
       "      <td>NaN</td>\n",
       "      <td>NaN</td>\n",
       "      <td>1.0</td>\n",
       "      <td>NaN</td>\n",
       "      <td>NaN</td>\n",
       "      <td>NaN</td>\n",
       "      <td>NaN</td>\n",
       "    </tr>\n",
       "    <tr>\n",
       "      <th>Baltimore</th>\n",
       "      <td>NaN</td>\n",
       "      <td>NaN</td>\n",
       "      <td>4.0</td>\n",
       "      <td>NaN</td>\n",
       "      <td>NaN</td>\n",
       "      <td>NaN</td>\n",
       "      <td>NaN</td>\n",
       "      <td>NaN</td>\n",
       "      <td>NaN</td>\n",
       "      <td>1.0</td>\n",
       "      <td>...</td>\n",
       "      <td>1.0</td>\n",
       "      <td>NaN</td>\n",
       "      <td>NaN</td>\n",
       "      <td>1.0</td>\n",
       "      <td>NaN</td>\n",
       "      <td>NaN</td>\n",
       "      <td>1.0</td>\n",
       "      <td>NaN</td>\n",
       "      <td>NaN</td>\n",
       "      <td>NaN</td>\n",
       "    </tr>\n",
       "    <tr>\n",
       "      <th>Brooklyn</th>\n",
       "      <td>NaN</td>\n",
       "      <td>NaN</td>\n",
       "      <td>NaN</td>\n",
       "      <td>NaN</td>\n",
       "      <td>NaN</td>\n",
       "      <td>NaN</td>\n",
       "      <td>NaN</td>\n",
       "      <td>NaN</td>\n",
       "      <td>NaN</td>\n",
       "      <td>NaN</td>\n",
       "      <td>...</td>\n",
       "      <td>NaN</td>\n",
       "      <td>NaN</td>\n",
       "      <td>NaN</td>\n",
       "      <td>NaN</td>\n",
       "      <td>NaN</td>\n",
       "      <td>NaN</td>\n",
       "      <td>NaN</td>\n",
       "      <td>NaN</td>\n",
       "      <td>NaN</td>\n",
       "      <td>1.0</td>\n",
       "    </tr>\n",
       "    <tr>\n",
       "      <th>Queens</th>\n",
       "      <td>NaN</td>\n",
       "      <td>4.0</td>\n",
       "      <td>NaN</td>\n",
       "      <td>NaN</td>\n",
       "      <td>NaN</td>\n",
       "      <td>NaN</td>\n",
       "      <td>NaN</td>\n",
       "      <td>NaN</td>\n",
       "      <td>NaN</td>\n",
       "      <td>NaN</td>\n",
       "      <td>...</td>\n",
       "      <td>NaN</td>\n",
       "      <td>NaN</td>\n",
       "      <td>NaN</td>\n",
       "      <td>NaN</td>\n",
       "      <td>NaN</td>\n",
       "      <td>NaN</td>\n",
       "      <td>NaN</td>\n",
       "      <td>NaN</td>\n",
       "      <td>1.0</td>\n",
       "      <td>NaN</td>\n",
       "    </tr>\n",
       "    <tr>\n",
       "      <th>San Antonio</th>\n",
       "      <td>NaN</td>\n",
       "      <td>NaN</td>\n",
       "      <td>3.0</td>\n",
       "      <td>NaN</td>\n",
       "      <td>NaN</td>\n",
       "      <td>NaN</td>\n",
       "      <td>NaN</td>\n",
       "      <td>NaN</td>\n",
       "      <td>NaN</td>\n",
       "      <td>1.0</td>\n",
       "      <td>...</td>\n",
       "      <td>3.0</td>\n",
       "      <td>1.0</td>\n",
       "      <td>NaN</td>\n",
       "      <td>NaN</td>\n",
       "      <td>NaN</td>\n",
       "      <td>NaN</td>\n",
       "      <td>NaN</td>\n",
       "      <td>NaN</td>\n",
       "      <td>1.0</td>\n",
       "      <td>NaN</td>\n",
       "    </tr>\n",
       "    <tr>\n",
       "      <th>Tampa</th>\n",
       "      <td>NaN</td>\n",
       "      <td>NaN</td>\n",
       "      <td>1.0</td>\n",
       "      <td>NaN</td>\n",
       "      <td>NaN</td>\n",
       "      <td>1.0</td>\n",
       "      <td>NaN</td>\n",
       "      <td>2.0</td>\n",
       "      <td>NaN</td>\n",
       "      <td>1.0</td>\n",
       "      <td>...</td>\n",
       "      <td>NaN</td>\n",
       "      <td>NaN</td>\n",
       "      <td>NaN</td>\n",
       "      <td>NaN</td>\n",
       "      <td>NaN</td>\n",
       "      <td>NaN</td>\n",
       "      <td>1.0</td>\n",
       "      <td>NaN</td>\n",
       "      <td>NaN</td>\n",
       "      <td>NaN</td>\n",
       "    </tr>\n",
       "  </tbody>\n",
       "</table>\n",
       "<p>9 rows × 146 columns</p>\n",
       "</div>"
      ],
      "text/plain": [
       "             ATM  Airport Lounge  American Restaurant  Antique Shop  \\\n",
       "Seattle      NaN             NaN                  NaN           1.0   \n",
       "Detroit      NaN             NaN                  6.0           NaN   \n",
       "Minneapolis  1.0             NaN                  2.0           NaN   \n",
       "St. Louis    1.0             NaN                  1.0           NaN   \n",
       "Baltimore    NaN             NaN                  4.0           NaN   \n",
       "Brooklyn     NaN             NaN                  NaN           NaN   \n",
       "Queens       NaN             4.0                  NaN           NaN   \n",
       "San Antonio  NaN             NaN                  3.0           NaN   \n",
       "Tampa        NaN             NaN                  1.0           NaN   \n",
       "\n",
       "             Art Gallery  Art Museum  Arts & Crafts Store  Asian Restaurant  \\\n",
       "Seattle              NaN         NaN                  1.0               2.0   \n",
       "Detroit              2.0         NaN                  NaN               NaN   \n",
       "Minneapolis          NaN         NaN                  NaN               1.0   \n",
       "St. Louis            1.0         NaN                  NaN               NaN   \n",
       "Baltimore            NaN         NaN                  NaN               NaN   \n",
       "Brooklyn             NaN         NaN                  NaN               NaN   \n",
       "Queens               NaN         NaN                  NaN               NaN   \n",
       "San Antonio          NaN         NaN                  NaN               NaN   \n",
       "Tampa                NaN         1.0                  NaN               2.0   \n",
       "\n",
       "             Athletics & Sports  BBQ Joint  ...  Theater  \\\n",
       "Seattle                     NaN        1.0  ...      NaN   \n",
       "Detroit                     NaN        NaN  ...      NaN   \n",
       "Minneapolis                 NaN        NaN  ...      NaN   \n",
       "St. Louis                   1.0        NaN  ...      NaN   \n",
       "Baltimore                   NaN        1.0  ...      1.0   \n",
       "Brooklyn                    NaN        NaN  ...      NaN   \n",
       "Queens                      NaN        NaN  ...      NaN   \n",
       "San Antonio                 NaN        1.0  ...      3.0   \n",
       "Tampa                       NaN        1.0  ...      NaN   \n",
       "\n",
       "             Thrift / Vintage Store  Tour Provider  \\\n",
       "Seattle                         1.0            1.0   \n",
       "Detroit                         NaN            NaN   \n",
       "Minneapolis                     NaN            NaN   \n",
       "St. Louis                       NaN            NaN   \n",
       "Baltimore                       NaN            NaN   \n",
       "Brooklyn                        NaN            NaN   \n",
       "Queens                          NaN            NaN   \n",
       "San Antonio                     1.0            NaN   \n",
       "Tampa                           NaN            NaN   \n",
       "\n",
       "             Tourist Information Center  Toy / Game Store  Track  \\\n",
       "Seattle                             NaN               1.0    NaN   \n",
       "Detroit                             NaN               NaN    NaN   \n",
       "Minneapolis                         NaN               NaN    NaN   \n",
       "St. Louis                           NaN               NaN    1.0   \n",
       "Baltimore                           1.0               NaN    NaN   \n",
       "Brooklyn                            NaN               NaN    NaN   \n",
       "Queens                              NaN               NaN    NaN   \n",
       "San Antonio                         NaN               NaN    NaN   \n",
       "Tampa                               NaN               NaN    NaN   \n",
       "\n",
       "             Vietnamese Restaurant  Whisky Bar  Wine Bar  Yoga Studio  \n",
       "Seattle                        NaN         NaN       NaN          1.0  \n",
       "Detroit                        NaN         2.0       NaN          1.0  \n",
       "Minneapolis                    NaN         NaN       NaN          NaN  \n",
       "St. Louis                      NaN         NaN       NaN          NaN  \n",
       "Baltimore                      1.0         NaN       NaN          NaN  \n",
       "Brooklyn                       NaN         NaN       NaN          1.0  \n",
       "Queens                         NaN         NaN       1.0          NaN  \n",
       "San Antonio                    NaN         NaN       1.0          NaN  \n",
       "Tampa                          1.0         NaN       NaN          NaN  \n",
       "\n",
       "[9 rows x 146 columns]"
      ]
     },
     "execution_count": 22,
     "metadata": {},
     "output_type": "execute_result"
    }
   ],
   "source": [
    "#build a new dataframe for analysis\n",
    "candidates_venues = pd.DataFrame()\n",
    "for city in city_list:\n",
    "    df = get_dataframe(city)\n",
    "    candidates_venues = pd.concat(objs = [df,candidates_venues])\n",
    "    \n",
    "candidates_venues.reset_index()\n",
    "candidates_venues"
   ]
  },
  {
   "cell_type": "code",
   "execution_count": 23,
   "metadata": {},
   "outputs": [],
   "source": [
    "#Cleaning the dataset, fill NaN value with 0\n",
    "candidates_venues.fillna(0,inplace=True)\n",
    "#candidates_venues"
   ]
  },
  {
   "cell_type": "code",
   "execution_count": 24,
   "metadata": {},
   "outputs": [],
   "source": [
    "#use PCA to get the city that is most similar to Seattle\n",
    "pca = PCA(n_components = 2)\n",
    "pcs = pca.fit_transform(candidates_venues)\n",
    "candidates_venues.insert(0,'pc1',pcs[:,0])\n",
    "candidates_venues.insert(0,'pc2',pcs[:,1])"
   ]
  },
  {
   "cell_type": "code",
   "execution_count": 29,
   "metadata": {},
   "outputs": [],
   "source": [
    "df=candidates_venues[['pc1','pc2']]"
   ]
  },
  {
   "cell_type": "code",
   "execution_count": 30,
   "metadata": {},
   "outputs": [
    {
     "data": {
      "image/png": "[encoded data removed]",
      "text/plain": [
       "<Figure size 1440x720 with 1 Axes>"
      ]
     },
     "metadata": {
      "needs_background": "light"
     },
     "output_type": "display_data"
    }
   ],
   "source": [
    "#create a df for plotting\n",
    "ax = df.plot.scatter(x='pc1', y='pc2', alpha=0.5,figsize=(20,10))\n",
    "for i, txt in enumerate(df.index):\n",
    "    ax.annotate(txt, (df.pc1.iat[i],df.pc2.iat[i]))\n",
    "plt.show()"
   ]
  },
  {
   "cell_type": "markdown",
   "metadata": {},
   "source": [
    "# Final Conclusion: Now we can see the city most similar to Seattle is  Detroit. so Detroit is our final answer"
   ]
  },
  {
   "cell_type": "code",
   "execution_count": null,
   "metadata": {},
   "outputs": [],
   "source": []
  }
 ],
 "metadata": {
  "kernelspec": {
   "display_name": "Python 3",
   "language": "python",
   "name": "python3"
  },
  "language_info": {
   "codemirror_mode": {
    "name": "ipython",
    "version": 3
   },
   "file_extension": ".py",
   "mimetype": "text/x-python",
   "name": "python",
   "nbconvert_exporter": "python",
   "pygments_lexer": "ipython3",
   "version": "3.7.3"
  }
 },
 "nbformat": 4,
 "nbformat_minor": 2
}
