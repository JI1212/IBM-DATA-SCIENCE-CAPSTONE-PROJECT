{
 "cells": [
  {
   "cell_type": "markdown",
   "metadata": {},
   "source": [
    "# Introduction"
   ]
  },
  {
   "cell_type": "markdown",
   "metadata": {},
   "source": [
    "### When I was a freshman, I was introduced a problem of finding the location for Amazon's 2nd headquarter. Now, I will use the data science techniques I learned to review the problem and give a better solution. The primary objective is to find a city that is similar to Seattle with the us cities dataset. Then, I will use foursquare api to find a which city has the most similar neighborhood with Seattle. I assume my target audience are Amazon's executives and other stakeholders. I will show them how my analytics and decisions will benefit them."
   ]
  },
  {
   "cell_type": "markdown",
   "metadata": {},
   "source": [
    "# Data"
   ]
  },
  {
   "cell_type": "markdown",
   "metadata": {},
   "source": [
    "### I will use a dataset about all us cities, retrieved from https://simplemaps.com/data/us-cities. This is a free version so there are limitations on the information. For instance, I can only get city's basic data, such as population, density, location, etc. However, this should work just fine since we are finding cities generally like Seattle. Also, I will use Foursquare API to get venues data."
   ]
  },
  {
   "cell_type": "markdown",
   "metadata": {},
   "source": [
    "# Methodology, part 1"
   ]
  },
  {
   "cell_type": "markdown",
   "metadata": {},
   "source": [
    "- Firstly, I believe the HQ2 should be on the east half of the U.S. because the first one is in Seattly, west. So, I make a filter using all cities' longitude.\n",
    "- Then, populated cities are better, so another rule-based filter was used to select top 10% populated cities.\n",
    "- Now we have 2094 cities to choose from.\n",
    "- Using the KMean cluster, we find out only 8 cities are in the same cluster with Seattle, so they become our candidates."
   ]
  },
  {
   "cell_type": "markdown",
   "metadata": {},
   "source": [
    "# Methodology, part 2"
   ]
  },
  {
   "cell_type": "markdown",
   "metadata": {},
   "source": [
    "- Using the Foursquare API, we explore the these candidates as well as the Seattle.\n",
    "- We clena the dataset and applied PCA to it.\n",
    "- Next, we plot the 9 cities, include Seattle, with pc1 and pc2. \n",
    "- We surprisingly found out only one city is located closely to Seattle on the graph, which is Detroit.\n",
    "- So our final answer is Detroit."
   ]
  },
  {
   "cell_type": "markdown",
   "metadata": {},
   "source": [
    "# Results"
   ]
  },
  {
   "cell_type": "markdown",
   "metadata": {},
   "source": [
    "### Our final answer is Detroit because it is the most similar to Seattle and has the potential to grow. "
   ]
  },
  {
   "cell_type": "markdown",
   "metadata": {},
   "source": [
    "# Discussion"
   ]
  },
  {
   "cell_type": "markdown",
   "metadata": {},
   "source": [
    "### Although the reality isn't the so, Detroit is a reasonable answer. It was elected to be one of the candidates by Amazon. Also, it's government offered four billion dollars to have Amazon HQ2. (https://www.crainsdetroit.com/article/20180525/news/661816/detroit-offered-4-billion-for-amazon-hq2-state-says)\n"
   ]
  },
  {
   "cell_type": "markdown",
   "metadata": {},
   "source": [
    "# Conclusion\n"
   ]
  },
  {
   "cell_type": "markdown",
   "metadata": {},
   "source": [
    "### This is an interst projec to do. I apply many techniques I learned in the Specialization. I believe the result could be more satisfying if I used better source. Finally, thank you for reading!"
   ]
  },
  {
   "cell_type": "code",
   "execution_count": null,
   "metadata": {},
   "outputs": [],
   "source": []
  }
 ],
 "metadata": {
  "kernelspec": {
   "display_name": "Python 3",
   "language": "python",
   "name": "python3"
  },
  "language_info": {
   "codemirror_mode": {
    "name": "ipython",
    "version": 3
   },
   "file_extension": ".py",
   "mimetype": "text/x-python",
   "name": "python",
   "nbconvert_exporter": "python",
   "pygments_lexer": "ipython3",
   "version": "3.7.3"
  }
 },
 "nbformat": 4,
 "nbformat_minor": 2
}
